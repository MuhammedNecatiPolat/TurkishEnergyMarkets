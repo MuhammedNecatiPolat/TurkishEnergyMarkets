{
 "cells": [
  {
   "cell_type": "code",
   "execution_count": 32,
   "metadata": {},
   "outputs": [],
   "source": [
    "import pandas as pd\n",
    "\n",
    "df = pd.read_csv('./data/data2023.csv')"
   ]
  },
  {
   "cell_type": "code",
   "execution_count": 33,
   "metadata": {},
   "outputs": [],
   "source": [
    "df.dropna(inplace=True)\n",
    "df['smpUsd'] = df['smp'] / df['exchangeRate']\n",
    "df['idmUsd'] = df['idm'] / df['exchangeRate']"
   ]
  },
  {
   "cell_type": "code",
   "execution_count": 34,
   "metadata": {},
   "outputs": [],
   "source": [
    "NEGATIVE_IMBALANCE_PENALTY = 1.03\n",
    "POSITIVE_IMBALANCE_PENALTY = 0.97\n",
    "\n",
    "\n",
    "def calculate_negative_imbalance_price(smp, mcp):\n",
    "    return max(smp, mcp) * NEGATIVE_IMBALANCE_PENALTY\n",
    "\n",
    "\n",
    "def calculate_positive_imbalance_price(smp, mcp):\n",
    "    return min(smp, mcp) * POSITIVE_IMBALANCE_PENALTY"
   ]
  },
  {
   "cell_type": "code",
   "execution_count": 35,
   "metadata": {},
   "outputs": [],
   "source": [
    "df[\"positive_imbalance_price\"] = df.apply(\n",
    "    lambda row: calculate_positive_imbalance_price(row[\"smpUsd\"], row[\"mcpUsd\"]), axis=1\n",
    ")\n",
    "df[\"negative_imbalance_price\"] = df.apply(\n",
    "    lambda row: calculate_negative_imbalance_price(row[\"smpUsd\"], row[\"mcpUsd\"]), axis=1\n",
    ")"
   ]
  },
  {
   "cell_type": "code",
   "execution_count": 36,
   "metadata": {},
   "outputs": [],
   "source": [
    "def calculate_shortselling_profit(idm, negative_imbalance_price):\n",
    "    return max(idm - negative_imbalance_price, 0)\n",
    "\n",
    "\n",
    "def calculate_long_profit(idm, positive_imbalance_price):\n",
    "    return max(positive_imbalance_price - idm, 0)"
   ]
  },
  {
   "cell_type": "code",
   "execution_count": 37,
   "metadata": {},
   "outputs": [],
   "source": [
    "def calculate_shortselling_loss(idm, negative_imbalance_price):\n",
    "    return max(negative_imbalance_price - idm, 0)\n",
    "\n",
    "def calculate_long_loss(idm, positive_imbalance_price):\n",
    "    return max(idm - positive_imbalance_price, 0)"
   ]
  },
  {
   "cell_type": "code",
   "execution_count": 38,
   "metadata": {},
   "outputs": [],
   "source": [
    "df[\"shortselling_profit\"] = df.apply(\n",
    "    lambda row: calculate_shortselling_profit(\n",
    "        row[\"idmUsd\"], row[\"negative_imbalance_price\"]\n",
    "    ),\n",
    "    axis=1,\n",
    ")\n",
    "df[\"long_profit\"] = df.apply(\n",
    "    lambda row: calculate_long_profit(row[\"idmUsd\"], row[\"positive_imbalance_price\"]),\n",
    "    axis=1,\n",
    ")\n",
    "\n",
    "df[\"total_profit\"] = df[\"shortselling_profit\"] + df[\"long_profit\"]"
   ]
  },
  {
   "cell_type": "code",
   "execution_count": 39,
   "metadata": {},
   "outputs": [],
   "source": [
    "df[\"shortselling_loss\"] = df.apply(\n",
    "    lambda row: calculate_shortselling_loss(\n",
    "        row[\"idmUsd\"], row[\"negative_imbalance_price\"]\n",
    "    ),\n",
    "    axis=1,\n",
    ")\n",
    "\n",
    "df[\"long_loss\"] = df.apply(\n",
    "    lambda row: calculate_long_loss(row[\"idmUsd\"], row[\"positive_imbalance_price\"]),\n",
    "    axis=1,\n",
    ")\n",
    "\n",
    "df[\"total_loss\"] = df[\"shortselling_loss\"] + df[\"long_loss\"]"
   ]
  },
  {
   "cell_type": "code",
   "execution_count": 40,
   "metadata": {},
   "outputs": [],
   "source": [
    "df['is_shortselling_profitable'] = df['shortselling_profit'] > 0\n",
    "df['is_long_profitable'] = df['long_profit'] > 0"
   ]
  },
  {
   "cell_type": "code",
   "execution_count": 42,
   "metadata": {},
   "outputs": [],
   "source": [
    "from autogluon.tabular import TabularDataset, TabularPredictor\n",
    "\n",
    "predictor = TabularPredictor.load(\"AutogluonModels/HourAndDayMediumUsdWithoutVolume\") # One later model"
   ]
  },
  {
   "cell_type": "code",
   "execution_count": 43,
   "metadata": {},
   "outputs": [],
   "source": [
    "df['dayOfWeek'] = pd.to_datetime(df['date']).dt.dayofweek"
   ]
  },
  {
   "cell_type": "code",
   "execution_count": 44,
   "metadata": {},
   "outputs": [],
   "source": [
    "X = df[['mcpUsd','damVolume', 'idmUsd', 'hour', 'dayOfWeek']]\n",
    "y = df['is_long_profitable']"
   ]
  },
  {
   "cell_type": "code",
   "execution_count": 45,
   "metadata": {},
   "outputs": [],
   "source": [
    "X = pd.get_dummies(X, columns=['hour', 'dayOfWeek'], drop_first=True)"
   ]
  },
  {
   "cell_type": "code",
   "execution_count": 46,
   "metadata": {},
   "outputs": [],
   "source": [
    "data = TabularDataset(X.join(y))"
   ]
  },
  {
   "cell_type": "code",
   "execution_count": 47,
   "metadata": {},
   "outputs": [],
   "source": [
    "y_pred = predictor.predict(data)\n",
    "y_pred_proba = predictor.predict_proba(data)"
   ]
  },
  {
   "cell_type": "code",
   "execution_count": 48,
   "metadata": {},
   "outputs": [
    {
     "data": {
      "text/plain": [
       "{'f1': 0.19619865113427346,\n",
       " 'accuracy': 0.8503082895638273,\n",
       " 'balanced_accuracy': 0.5485624043085415,\n",
       " 'mcc': 0.14879559681918125,\n",
       " 'roc_auc': 0.776132023213939,\n",
       " 'precision': 0.350109409190372,\n",
       " 'recall': 0.1362862010221465}"
      ]
     },
     "execution_count": 48,
     "metadata": {},
     "output_type": "execute_result"
    }
   ],
   "source": [
    "predictor.evaluate(data)"
   ]
  },
  {
   "cell_type": "code",
   "execution_count": 49,
   "metadata": {},
   "outputs": [
    {
     "data": {
      "text/plain": [
       "array([[7287,  297],\n",
       "       [1014,  160]])"
      ]
     },
     "execution_count": 49,
     "metadata": {},
     "output_type": "execute_result"
    }
   ],
   "source": [
    "from sklearn.metrics import confusion_matrix\n",
    "confusion_matrix(data['is_long_profitable'], y_pred)"
   ]
  },
  {
   "cell_type": "code",
   "execution_count": 50,
   "metadata": {},
   "outputs": [],
   "source": [
    "POSITIVE_IMBALANCE_PENALTY = 0.97\n",
    "NEGATIVE_IMBALANCE_PENALTY = 1.03\n",
    "def calculate_pnl(mcp, smp, idm, strategy):\n",
    "    positive_imbalance_price = min(mcp, smp) * POSITIVE_IMBALANCE_PENALTY\n",
    "    negative_imbalance_price = max(mcp, smp) * NEGATIVE_IMBALANCE_PENALTY\n",
    "    if strategy == 'buy':\n",
    "        return positive_imbalance_price - idm\n",
    "    elif strategy == 'sell':\n",
    "        return idm - negative_imbalance_price\n",
    "    else:\n",
    "        return 0\n"
   ]
  },
  {
   "cell_type": "code",
   "execution_count": 67,
   "metadata": {},
   "outputs": [],
   "source": [
    "threshold = 0.8\n",
    "m_y_pred = (y_pred_proba.iloc[:, 1] > threshold).astype(int)\n",
    "df[\"strategy\"] = m_y_pred.apply(lambda x: 'buy' if x == 1  else 'hold')\n",
    "df[\"pnl\"] = df.apply(\n",
    "    lambda row: calculate_pnl(row[\"mcpUsd\"], row[\"smpUsd\"], row[\"idmUsd\"], row[\"strategy\"]),\n",
    "    axis=1,\n",
    ")"
   ]
  },
  {
   "cell_type": "code",
   "execution_count": 68,
   "metadata": {},
   "outputs": [
    {
     "data": {
      "text/plain": [
       "-746.0000109309552"
      ]
     },
     "execution_count": 68,
     "metadata": {},
     "output_type": "execute_result"
    }
   ],
   "source": [
    "df['pnl'].sum()"
   ]
  },
  {
   "cell_type": "code",
   "execution_count": 69,
   "metadata": {},
   "outputs": [
    {
     "data": {
      "text/plain": [
       "array([[7560,   24],\n",
       "       [1166,    8]])"
      ]
     },
     "execution_count": 69,
     "metadata": {},
     "output_type": "execute_result"
    }
   ],
   "source": [
    "# \n",
    "confusion_matrix(data['is_long_profitable'], m_y_pred)"
   ]
  },
  {
   "cell_type": "code",
   "execution_count": null,
   "metadata": {},
   "outputs": [],
   "source": []
  }
 ],
 "metadata": {
  "kernelspec": {
   "display_name": "bitirme",
   "language": "python",
   "name": "python3"
  },
  "language_info": {
   "codemirror_mode": {
    "name": "ipython",
    "version": 3
   },
   "file_extension": ".py",
   "mimetype": "text/x-python",
   "name": "python",
   "nbconvert_exporter": "python",
   "pygments_lexer": "ipython3",
   "version": "3.10.13"
  }
 },
 "nbformat": 4,
 "nbformat_minor": 2
}
