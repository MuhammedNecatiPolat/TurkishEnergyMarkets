{
 "cells": [
  {
   "cell_type": "code",
   "execution_count": 2,
   "metadata": {},
   "outputs": [],
   "source": [
    "import requests\n",
    "\n",
    "base_url = \"https://api.epias.com.tr/epias/exchange/transparency\"\n",
    "urls = {\n",
    "    \"ptf_smf\": \"/market/mcp-smp\",  # Market Clearing Price and System Marginal Price\n",
    "    \"smp_average\": \"/market/smp-average\",  # System Marginal Price Average\n",
    "    \"smp\": \"/market/smp\",  # System Marginal Price\n",
    "    \"mcp\": \"/market/mcp\",  # Market Clearing Price\n",
    "    \"idm_min_max\": \"/market/intra-day-min-max-price\",  # Intra-Day Market Min-Max Price\n",
    "    \"res_forecast\": \"/production/wpp-generation-and-forecast\",  # Renewable Energy Sources Generation and Forecast\n",
    "    \"yekdem_forecast\": \"/production/renewable-sm-forecast\", # YEKDEM Forecast\n",
    "    \"yekdem_imbalance\": \"/production/renewable-sm-imbalance-quantity\", # YEKDEM Imbalance Quantity\n",
    "    \"yekdem_generation\": \"/production/renewable-sm-licensed-real-time-generation\", # YEKDEM Real Time Generation\n",
    "    \"realtime_generation\": \"/production/real-time-generation\",  # Real-Time Generation\n",
    "    \"kgüp\": \"/production/dpp\",  # Daily Production Program\n",
    "    \"idm_aof\": \"/market/intra-day-aof\",  # Intra-Day Market Actual Offer and Forecast\n",
    "    \"imbalance_quantity\": \"/market/imbalance-quantity\",  # Imbalance Quantity\n",
    "    \"imbalance_amount\": \"/market/imbalance-amount\",  # Imbalance Amount\n",
    "    \"energy_imbalance\": \"/market/energy-imbalance-hourly\",  # Energy Imbalance Hourly\n",
    "    \"mcp\": \"/market/day-ahead-mcp\",  # Day Ahead Market Clearing Price\n",
    "    \"dam_volume\": \"/market/day-ahead-market-volume\",  # Day Ahead Market Volume\n",
    "    \"bpm_order_summary\": \"/market/bpm-order-summary\",  # Balancing Market Order Summary\n",
    "}"
   ]
  },
  {
   "cell_type": "code",
   "execution_count": 3,
   "metadata": {},
   "outputs": [],
   "source": [
    "def get_data(url, start_date, end_date):\n",
    "    url = urls[url] + \"?startDate=\" + start_date + \"&endDate=\" + end_date\n",
    "    response = requests.get(base_url + url)\n",
    "    return response.json()"
   ]
  },
  {
   "cell_type": "code",
   "execution_count": null,
   "metadata": {},
   "outputs": [],
   "source": []
  }
 ],
 "metadata": {
  "kernelspec": {
   "display_name": "bitirme",
   "language": "python",
   "name": "python3"
  },
  "language_info": {
   "codemirror_mode": {
    "name": "ipython",
    "version": 3
   },
   "file_extension": ".py",
   "mimetype": "text/x-python",
   "name": "python",
   "nbconvert_exporter": "python",
   "pygments_lexer": "ipython3",
   "version": "3.10.13"
  }
 },
 "nbformat": 4,
 "nbformat_minor": 2
}
