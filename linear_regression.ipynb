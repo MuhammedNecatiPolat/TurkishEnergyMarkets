{
 "cells": [
  {
   "cell_type": "code",
   "execution_count": 7,
   "metadata": {},
   "outputs": [],
   "source": [
    "import pandas as pd\n",
    "import numpy as np\n",
    "\n",
    "df = pd.read_csv('./data/data2019.csv')"
   ]
  },
  {
   "cell_type": "code",
   "execution_count": 8,
   "metadata": {},
   "outputs": [],
   "source": [
    "df['dayOfWeek'] = pd.to_datetime(df['date']).dt.dayofweek"
   ]
  },
  {
   "cell_type": "code",
   "execution_count": 9,
   "metadata": {},
   "outputs": [],
   "source": [
    "# One hot encode hour\n",
    "df = pd.concat([df, pd.get_dummies(df['hour'], prefix='hour', drop_first=True).astype(int)], axis=1)\n",
    "df = pd.concat([df, pd.get_dummies(df['dayOfWeek'], prefix='dayOfWeek', drop_first=True).astype(int)], axis=1)"
   ]
  },
  {
   "cell_type": "code",
   "execution_count": 24,
   "metadata": {},
   "outputs": [],
   "source": [
    "from sklearn.model_selection import train_test_split\n",
    "\n",
    "X_train, X_test, y_train, y_test = train_test_split(\n",
    "    df.loc[:, ['netImbalanceVolume', 'mcpUsd']],\n",
    "    df[\"smpUsd\"].values,\n",
    "    test_size=0.2,\n",
    "    random_state=42,\n",
    "    shuffle=False,\n",
    ")"
   ]
  },
  {
   "cell_type": "code",
   "execution_count": 25,
   "metadata": {},
   "outputs": [
    {
     "data": {
      "text/plain": [
       "0.8633874070932618"
      ]
     },
     "execution_count": 25,
     "metadata": {},
     "output_type": "execute_result"
    }
   ],
   "source": [
    "from sklearn.linear_model import LinearRegression\n",
    "\n",
    "reg = LinearRegression().fit(X_train, y_train)\n",
    "reg.score(X_test, y_test)"
   ]
  },
  {
   "cell_type": "code",
   "execution_count": 26,
   "metadata": {},
   "outputs": [
    {
     "name": "stdout",
     "output_type": "stream",
     "text": [
      "                            OLS Regression Results                            \n",
      "==============================================================================\n",
      "Dep. Variable:                      y   R-squared:                       0.871\n",
      "Model:                            OLS   Adj. R-squared:                  0.871\n",
      "Method:                 Least Squares   F-statistic:                 2.365e+04\n",
      "Date:                Wed, 15 May 2024   Prob (F-statistic):               0.00\n",
      "Time:                        15:50:10   Log-Likelihood:                -23105.\n",
      "No. Observations:                7008   AIC:                         4.622e+04\n",
      "Df Residuals:                    7005   BIC:                         4.624e+04\n",
      "Df Model:                           2                                         \n",
      "Covariance Type:            nonrobust                                         \n",
      "======================================================================================\n",
      "                         coef    std err          t      P>|t|      [0.025      0.975]\n",
      "--------------------------------------------------------------------------------------\n",
      "const                  7.5464      0.240     31.390      0.000       7.075       8.018\n",
      "netImbalanceVolume     0.0096   8.86e-05    108.264      0.000       0.009       0.010\n",
      "mcpUsd                 0.7836      0.005    153.060      0.000       0.774       0.794\n",
      "==============================================================================\n",
      "Omnibus:                     1251.336   Durbin-Watson:                   0.732\n",
      "Prob(Omnibus):                  0.000   Jarque-Bera (JB):             7261.459\n",
      "Skew:                          -0.729   Prob(JB):                         0.00\n",
      "Kurtosis:                       7.769   Cond. No.                     2.83e+03\n",
      "==============================================================================\n",
      "\n",
      "Notes:\n",
      "[1] Standard Errors assume that the covariance matrix of the errors is correctly specified.\n",
      "[2] The condition number is large, 2.83e+03. This might indicate that there are\n",
      "strong multicollinearity or other numerical problems.\n"
     ]
    }
   ],
   "source": [
    "import statsmodels.api as sm\n",
    "\n",
    "X2 = sm.add_constant(X_train)\n",
    "est = sm.OLS(y_train, X2)\n",
    "est2 = est.fit()\n",
    "print(est2.summary())"
   ]
  }
 ],
 "metadata": {
  "kernelspec": {
   "display_name": "bitirme",
   "language": "python",
   "name": "python3"
  },
  "language_info": {
   "codemirror_mode": {
    "name": "ipython",
    "version": 3
   },
   "file_extension": ".py",
   "mimetype": "text/x-python",
   "name": "python",
   "nbconvert_exporter": "python",
   "pygments_lexer": "ipython3",
   "version": "3.10.13"
  }
 },
 "nbformat": 4,
 "nbformat_minor": 2
}
